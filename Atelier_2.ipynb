{
 "cells": [
  {
   "cell_type": "markdown",
   "metadata": {},
   "source": [
    "# **Analyse des données et visualisation**"
   ]
  },
  {
   "cell_type": "markdown",
   "metadata": {},
   "source": [
    "## **0. Imports** "
   ]
  },
  {
   "cell_type": "code",
   "execution_count": 27,
   "metadata": {},
   "outputs": [],
   "source": [
    "import numpy as np\n",
    "import pandas as pd\n",
    "import matplotlib.pyplot as plt\n",
    "COLOR=\"#3ade86\""
   ]
  },
  {
   "cell_type": "markdown",
   "metadata": {},
   "source": [
    "## **1. Charger les données**"
   ]
  },
  {
   "cell_type": "code",
   "execution_count": 28,
   "metadata": {},
   "outputs": [
    {
     "data": {
      "text/html": [
       "<div>\n",
       "<style scoped>\n",
       "    .dataframe tbody tr th:only-of-type {\n",
       "        vertical-align: middle;\n",
       "    }\n",
       "\n",
       "    .dataframe tbody tr th {\n",
       "        vertical-align: top;\n",
       "    }\n",
       "\n",
       "    .dataframe thead th {\n",
       "        text-align: right;\n",
       "    }\n",
       "</style>\n",
       "<table border=\"1\" class=\"dataframe\">\n",
       "  <thead>\n",
       "    <tr style=\"text-align: right;\">\n",
       "      <th></th>\n",
       "      <th>unnamed</th>\n",
       "      <th>price</th>\n",
       "      <th>area</th>\n",
       "      <th>bedrooms</th>\n",
       "      <th>bathrooms</th>\n",
       "      <th>stories</th>\n",
       "      <th>mainroad</th>\n",
       "      <th>guestroom</th>\n",
       "      <th>basement</th>\n",
       "      <th>hotwaterheating</th>\n",
       "      <th>airconditioning</th>\n",
       "      <th>parking</th>\n",
       "      <th>prefarea</th>\n",
       "      <th>furnishingstatus</th>\n",
       "    </tr>\n",
       "  </thead>\n",
       "  <tbody>\n",
       "    <tr>\n",
       "      <th>0</th>\n",
       "      <td>0</td>\n",
       "      <td>13300000.0</td>\n",
       "      <td>7420</td>\n",
       "      <td>4.0</td>\n",
       "      <td>2.0</td>\n",
       "      <td>3</td>\n",
       "      <td>yes</td>\n",
       "      <td>no</td>\n",
       "      <td>no</td>\n",
       "      <td>no</td>\n",
       "      <td>yes</td>\n",
       "      <td>2</td>\n",
       "      <td>yes</td>\n",
       "      <td>furnished</td>\n",
       "    </tr>\n",
       "    <tr>\n",
       "      <th>1</th>\n",
       "      <td>1</td>\n",
       "      <td>12250000.0</td>\n",
       "      <td>8960</td>\n",
       "      <td>4.0</td>\n",
       "      <td>4.0</td>\n",
       "      <td>4</td>\n",
       "      <td>yes</td>\n",
       "      <td>no</td>\n",
       "      <td>no</td>\n",
       "      <td>no</td>\n",
       "      <td>yes</td>\n",
       "      <td>3</td>\n",
       "      <td>no</td>\n",
       "      <td>NaN</td>\n",
       "    </tr>\n",
       "    <tr>\n",
       "      <th>2</th>\n",
       "      <td>2</td>\n",
       "      <td>12250000.0</td>\n",
       "      <td>9960</td>\n",
       "      <td>3.0</td>\n",
       "      <td>2.0</td>\n",
       "      <td>2</td>\n",
       "      <td>yes</td>\n",
       "      <td>no</td>\n",
       "      <td>yes</td>\n",
       "      <td>no</td>\n",
       "      <td>no</td>\n",
       "      <td>2</td>\n",
       "      <td>yes</td>\n",
       "      <td>semi-furnished</td>\n",
       "    </tr>\n",
       "    <tr>\n",
       "      <th>3</th>\n",
       "      <td>3</td>\n",
       "      <td>12215000.0</td>\n",
       "      <td>7500</td>\n",
       "      <td>4.0</td>\n",
       "      <td>2.0</td>\n",
       "      <td>2</td>\n",
       "      <td>yes</td>\n",
       "      <td>no</td>\n",
       "      <td>yes</td>\n",
       "      <td>no</td>\n",
       "      <td>yes</td>\n",
       "      <td>3</td>\n",
       "      <td>yes</td>\n",
       "      <td>FUrnished</td>\n",
       "    </tr>\n",
       "    <tr>\n",
       "      <th>4</th>\n",
       "      <td>4</td>\n",
       "      <td>11410000.0</td>\n",
       "      <td>7420</td>\n",
       "      <td>4.0</td>\n",
       "      <td>1.0</td>\n",
       "      <td>2</td>\n",
       "      <td>yes</td>\n",
       "      <td>yes</td>\n",
       "      <td>yes</td>\n",
       "      <td>no</td>\n",
       "      <td>yes</td>\n",
       "      <td>2</td>\n",
       "      <td>no</td>\n",
       "      <td>furnished</td>\n",
       "    </tr>\n",
       "  </tbody>\n",
       "</table>\n",
       "</div>"
      ],
      "text/plain": [
       "   unnamed       price  area  bedrooms  bathrooms  stories mainroad guestroom  \\\n",
       "0        0  13300000.0  7420       4.0        2.0        3      yes        no   \n",
       "1        1  12250000.0  8960       4.0        4.0        4      yes        no   \n",
       "2        2  12250000.0  9960       3.0        2.0        2      yes        no   \n",
       "3        3  12215000.0  7500       4.0        2.0        2      yes        no   \n",
       "4        4  11410000.0  7420       4.0        1.0        2      yes       yes   \n",
       "\n",
       "  basement hotwaterheating airconditioning  parking prefarea furnishingstatus  \n",
       "0       no              no             yes        2      yes        furnished  \n",
       "1       no              no             yes        3       no              NaN  \n",
       "2      yes              no              no        2      yes   semi-furnished  \n",
       "3      yes              no             yes        3      yes        FUrnished  \n",
       "4      yes              no             yes        2       no        furnished  "
      ]
     },
     "execution_count": 28,
     "metadata": {},
     "output_type": "execute_result"
    }
   ],
   "source": [
    "data=pd.read_csv(\"Housing.csv\")\n",
    "data.head()"
   ]
  },
  {
   "cell_type": "markdown",
   "metadata": {},
   "source": [
    "## **2. Analyse des données**"
   ]
  },
  {
   "cell_type": "code",
   "execution_count": 29,
   "metadata": {},
   "outputs": [
    {
     "name": "stdout",
     "output_type": "stream",
     "text": [
      "<class 'pandas.core.frame.DataFrame'>\n",
      "RangeIndex: 548 entries, 0 to 547\n",
      "Data columns (total 14 columns):\n",
      " #   Column            Non-Null Count  Dtype  \n",
      "---  ------            --------------  -----  \n",
      " 0   unnamed           548 non-null    int64  \n",
      " 1   price             547 non-null    float64\n",
      " 2   area              548 non-null    int64  \n",
      " 3   bedrooms          545 non-null    float64\n",
      " 4   bathrooms         545 non-null    float64\n",
      " 5   stories           548 non-null    int64  \n",
      " 6   mainroad          546 non-null    object \n",
      " 7   guestroom         548 non-null    object \n",
      " 8   basement          548 non-null    object \n",
      " 9   hotwaterheating   548 non-null    object \n",
      " 10  airconditioning   548 non-null    object \n",
      " 11  parking           548 non-null    int64  \n",
      " 12  prefarea          548 non-null    object \n",
      " 13  furnishingstatus  545 non-null    object \n",
      "dtypes: float64(3), int64(4), object(7)\n",
      "memory usage: 60.1+ KB\n"
     ]
    }
   ],
   "source": [
    "data.info() "
   ]
  },
  {
   "cell_type": "code",
   "execution_count": 30,
   "metadata": {},
   "outputs": [
    {
     "data": {
      "text/html": [
       "<div>\n",
       "<style scoped>\n",
       "    .dataframe tbody tr th:only-of-type {\n",
       "        vertical-align: middle;\n",
       "    }\n",
       "\n",
       "    .dataframe tbody tr th {\n",
       "        vertical-align: top;\n",
       "    }\n",
       "\n",
       "    .dataframe thead th {\n",
       "        text-align: right;\n",
       "    }\n",
       "</style>\n",
       "<table border=\"1\" class=\"dataframe\">\n",
       "  <thead>\n",
       "    <tr style=\"text-align: right;\">\n",
       "      <th></th>\n",
       "      <th>unnamed</th>\n",
       "      <th>price</th>\n",
       "      <th>area</th>\n",
       "      <th>bedrooms</th>\n",
       "      <th>bathrooms</th>\n",
       "      <th>stories</th>\n",
       "      <th>parking</th>\n",
       "    </tr>\n",
       "  </thead>\n",
       "  <tbody>\n",
       "    <tr>\n",
       "      <th>count</th>\n",
       "      <td>548.000000</td>\n",
       "      <td>5.470000e+02</td>\n",
       "      <td>548.000000</td>\n",
       "      <td>545.000000</td>\n",
       "      <td>545.000000</td>\n",
       "      <td>548.000000</td>\n",
       "      <td>548.000000</td>\n",
       "    </tr>\n",
       "    <tr>\n",
       "      <th>mean</th>\n",
       "      <td>273.503650</td>\n",
       "      <td>4.774133e+06</td>\n",
       "      <td>5160.445255</td>\n",
       "      <td>2.965138</td>\n",
       "      <td>1.284404</td>\n",
       "      <td>1.806569</td>\n",
       "      <td>0.693431</td>\n",
       "    </tr>\n",
       "    <tr>\n",
       "      <th>std</th>\n",
       "      <td>158.344561</td>\n",
       "      <td>1.879724e+06</td>\n",
       "      <td>2192.836506</td>\n",
       "      <td>0.738064</td>\n",
       "      <td>0.501684</td>\n",
       "      <td>0.867340</td>\n",
       "      <td>0.862054</td>\n",
       "    </tr>\n",
       "    <tr>\n",
       "      <th>min</th>\n",
       "      <td>0.000000</td>\n",
       "      <td>1.750000e+06</td>\n",
       "      <td>1650.000000</td>\n",
       "      <td>1.000000</td>\n",
       "      <td>1.000000</td>\n",
       "      <td>1.000000</td>\n",
       "      <td>0.000000</td>\n",
       "    </tr>\n",
       "    <tr>\n",
       "      <th>25%</th>\n",
       "      <td>136.750000</td>\n",
       "      <td>3.447500e+06</td>\n",
       "      <td>3600.000000</td>\n",
       "      <td>2.000000</td>\n",
       "      <td>1.000000</td>\n",
       "      <td>1.000000</td>\n",
       "      <td>0.000000</td>\n",
       "    </tr>\n",
       "    <tr>\n",
       "      <th>50%</th>\n",
       "      <td>273.500000</td>\n",
       "      <td>4.340000e+06</td>\n",
       "      <td>4580.000000</td>\n",
       "      <td>3.000000</td>\n",
       "      <td>1.000000</td>\n",
       "      <td>2.000000</td>\n",
       "      <td>0.000000</td>\n",
       "    </tr>\n",
       "    <tr>\n",
       "      <th>75%</th>\n",
       "      <td>410.250000</td>\n",
       "      <td>5.757500e+06</td>\n",
       "      <td>6360.000000</td>\n",
       "      <td>3.000000</td>\n",
       "      <td>2.000000</td>\n",
       "      <td>2.000000</td>\n",
       "      <td>1.000000</td>\n",
       "    </tr>\n",
       "    <tr>\n",
       "      <th>max</th>\n",
       "      <td>548.000000</td>\n",
       "      <td>1.330000e+07</td>\n",
       "      <td>16200.000000</td>\n",
       "      <td>6.000000</td>\n",
       "      <td>4.000000</td>\n",
       "      <td>4.000000</td>\n",
       "      <td>3.000000</td>\n",
       "    </tr>\n",
       "  </tbody>\n",
       "</table>\n",
       "</div>"
      ],
      "text/plain": [
       "          unnamed         price          area    bedrooms   bathrooms  \\\n",
       "count  548.000000  5.470000e+02    548.000000  545.000000  545.000000   \n",
       "mean   273.503650  4.774133e+06   5160.445255    2.965138    1.284404   \n",
       "std    158.344561  1.879724e+06   2192.836506    0.738064    0.501684   \n",
       "min      0.000000  1.750000e+06   1650.000000    1.000000    1.000000   \n",
       "25%    136.750000  3.447500e+06   3600.000000    2.000000    1.000000   \n",
       "50%    273.500000  4.340000e+06   4580.000000    3.000000    1.000000   \n",
       "75%    410.250000  5.757500e+06   6360.000000    3.000000    2.000000   \n",
       "max    548.000000  1.330000e+07  16200.000000    6.000000    4.000000   \n",
       "\n",
       "          stories     parking  \n",
       "count  548.000000  548.000000  \n",
       "mean     1.806569    0.693431  \n",
       "std      0.867340    0.862054  \n",
       "min      1.000000    0.000000  \n",
       "25%      1.000000    0.000000  \n",
       "50%      2.000000    0.000000  \n",
       "75%      2.000000    1.000000  \n",
       "max      4.000000    3.000000  "
      ]
     },
     "execution_count": 30,
     "metadata": {},
     "output_type": "execute_result"
    }
   ],
   "source": [
    "data.describe()"
   ]
  },
  {
   "cell_type": "code",
   "execution_count": 31,
   "metadata": {},
   "outputs": [
    {
     "data": {
      "text/html": [
       "<div>\n",
       "<style scoped>\n",
       "    .dataframe tbody tr th:only-of-type {\n",
       "        vertical-align: middle;\n",
       "    }\n",
       "\n",
       "    .dataframe tbody tr th {\n",
       "        vertical-align: top;\n",
       "    }\n",
       "\n",
       "    .dataframe thead th {\n",
       "        text-align: right;\n",
       "    }\n",
       "</style>\n",
       "<table border=\"1\" class=\"dataframe\">\n",
       "  <thead>\n",
       "    <tr style=\"text-align: right;\">\n",
       "      <th></th>\n",
       "      <th>0</th>\n",
       "      <th>1</th>\n",
       "      <th>2</th>\n",
       "      <th>3</th>\n",
       "      <th>4</th>\n",
       "      <th>5</th>\n",
       "      <th>6</th>\n",
       "      <th>7</th>\n",
       "      <th>8</th>\n",
       "      <th>9</th>\n",
       "      <th>10</th>\n",
       "      <th>11</th>\n",
       "      <th>12</th>\n",
       "    </tr>\n",
       "  </thead>\n",
       "  <tbody>\n",
       "    <tr>\n",
       "      <th>0</th>\n",
       "      <td>4200000.0</td>\n",
       "      <td>6000</td>\n",
       "      <td>3.0</td>\n",
       "      <td>1.0</td>\n",
       "      <td>2</td>\n",
       "      <td>yes</td>\n",
       "      <td>no</td>\n",
       "      <td>no</td>\n",
       "      <td>no</td>\n",
       "      <td>no</td>\n",
       "      <td>0</td>\n",
       "      <td>no</td>\n",
       "      <td>semi-furnished</td>\n",
       "    </tr>\n",
       "  </tbody>\n",
       "</table>\n",
       "</div>"
      ],
      "text/plain": [
       "          0     1    2    3  4    5   6   7   8   9  10  11              12\n",
       "0  4200000.0  6000  3.0  1.0  2  yes  no  no  no  no  0  no  semi-furnished"
      ]
     },
     "execution_count": 31,
     "metadata": {},
     "output_type": "execute_result"
    }
   ],
   "source": [
    "pd.DataFrame(np.array(data)[:,1:]).mode()"
   ]
  },
  {
   "cell_type": "markdown",
   "metadata": {},
   "source": [
    "## **3. Visualisation des données**"
   ]
  },
  {
   "cell_type": "code",
   "execution_count": 32,
   "metadata": {},
   "outputs": [
    {
     "data": {
      "text/plain": [
       "{0: 'unnamed',\n",
       " 1: 'price',\n",
       " 2: 'area',\n",
       " 3: 'bedrooms',\n",
       " 4: 'bathrooms',\n",
       " 5: 'stories',\n",
       " 6: 'mainroad',\n",
       " 7: 'guestroom',\n",
       " 8: 'basement',\n",
       " 9: 'hotwaterheating',\n",
       " 10: 'airconditioning',\n",
       " 11: 'parking',\n",
       " 12: 'prefarea',\n",
       " 13: 'furnishingstatus'}"
      ]
     },
     "execution_count": 32,
     "metadata": {},
     "output_type": "execute_result"
    }
   ],
   "source": [
    "# Pour un meilleur affichage des graphes\n",
    "Nom_Attr={key:value for key,value in zip(range(data.shape[1]),data.keys())}\n",
    "Nom_Attr"
   ]
  },
  {
   "cell_type": "code",
   "execution_count": 33,
   "metadata": {},
   "outputs": [
    {
     "data": {
      "image/png": "[encoded data removed]",
      "text/plain": [
       "<Figure size 640x480 with 1 Axes>"
      ]
     },
     "metadata": {},
     "output_type": "display_data"
    }
   ],
   "source": [
    "\n",
    "def scatterplot(attribut,attribut2):\n",
    "    dataset=np.array(data)\n",
    "    plt.scatter(dataset[:,attribut],dataset[:,attribut2],marker ='p',color=COLOR)\n",
    "    plt.title('Diagramme de Dispertion')\n",
    "    plt.xlabel(\"Valeur de \"+Nom_Attr[attribut])\n",
    "    plt.ylabel(\"Valeur de \"+Nom_Attr[attribut2])\n",
    "    plt.show()\n",
    "\n",
    "scatterplot(1,2)"
   ]
  },
  {
   "cell_type": "code",
   "execution_count": 34,
   "metadata": {},
   "outputs": [
    {
     "name": "stderr",
     "output_type": "stream",
     "text": [
      "c:\\Users\\mayah\\Desktop\\Ateliers\\New_LABS\\env\\Lib\\site-packages\\numpy\\lib\\_histograms_impl.py:835: RuntimeWarning: invalid value encountered in greater_equal\n",
      "  keep = (tmp_a >= first_edge)\n",
      "c:\\Users\\mayah\\Desktop\\Ateliers\\New_LABS\\env\\Lib\\site-packages\\numpy\\lib\\_histograms_impl.py:836: RuntimeWarning: invalid value encountered in less_equal\n",
      "  keep &= (tmp_a <= last_edge)\n"
     ]
    },
    {
     "data": {
      "image/png": "[encoded data removed]",
      "text/plain": [
       "<Figure size 640x480 with 1 Axes>"
      ]
     },
     "metadata": {},
     "output_type": "display_data"
    }
   ],
   "source": [
    "def Histogramme(attribut):\n",
    "    dataset=np.array(data)\n",
    "    plt.hist(dataset[:,attribut],edgecolor='black',color=COLOR)\n",
    "    plt.title(\"Histogramme de l'attribut: \"+Nom_Attr[attribut])\n",
    "    plt.ylabel(\"Nombre d\\'occurences\")\n",
    "    plt.xlabel(Nom_Attr[attribut])\n",
    "    plt.show()\n",
    "Histogramme(1)"
   ]
  },
  {
   "cell_type": "code",
   "execution_count": 35,
   "metadata": {},
   "outputs": [
    {
     "name": "stderr",
     "output_type": "stream",
     "text": [
      "c:\\Users\\mayah\\Desktop\\Ateliers\\New_LABS\\env\\Lib\\site-packages\\matplotlib\\cbook.py:1320: RuntimeWarning: invalid value encountered in less_equal\n",
      "  wiskhi = x[x <= hival]\n",
      "c:\\Users\\mayah\\Desktop\\Ateliers\\New_LABS\\env\\Lib\\site-packages\\matplotlib\\cbook.py:1327: RuntimeWarning: invalid value encountered in greater_equal\n",
      "  wisklo = x[x >= loval]\n",
      "c:\\Users\\mayah\\Desktop\\Ateliers\\New_LABS\\env\\Lib\\site-packages\\matplotlib\\cbook.py:1335: RuntimeWarning: invalid value encountered in less\n",
      "  x[x < stats['whislo']],\n",
      "c:\\Users\\mayah\\Desktop\\Ateliers\\New_LABS\\env\\Lib\\site-packages\\matplotlib\\cbook.py:1336: RuntimeWarning: invalid value encountered in greater\n",
      "  x[x > stats['whishi']],\n"
     ]
    },
    {
     "data": {
      "image/png": "[encoded data removed]",
      "text/plain": [
       "<Figure size 640x480 with 1 Axes>"
      ]
     },
     "metadata": {},
     "output_type": "display_data"
    }
   ],
   "source": [
    "num_attr=[i for i in range(data.shape[1]) if  pd.api.types.is_numeric_dtype(data.iloc[:, i]) ]\n",
    "def Boite_a_moustache(attribut):\n",
    "    dataset=np.array(data)\n",
    "    if attribut not in num_attr:\n",
    "        print(\"Entrez le numero d'une colonne numerique\")\n",
    "    else:\n",
    "        plt.boxplot(dataset[:,attribut])\n",
    "        plt.title(\"Boxplot de l'attribut: \"+Nom_Attr[attribut])\n",
    "        plt.ylabel(Nom_Attr[attribut])\n",
    "        plt.grid(True)\n",
    "        plt.show()\n",
    "\n",
    "Boite_a_moustache(1)"
   ]
  }
 ],
 "metadata": {
  "kernelspec": {
   "display_name": "env",
   "language": "python",
   "name": "python3"
  },
  "language_info": {
   "codemirror_mode": {
    "name": "ipython",
    "version": 3
   },
   "file_extension": ".py",
   "mimetype": "text/x-python",
   "name": "python",
   "nbconvert_exporter": "python",
   "pygments_lexer": "ipython3",
   "version": "3.11.2"
  }
 },
 "nbformat": 4,
 "nbformat_minor": 2
}
