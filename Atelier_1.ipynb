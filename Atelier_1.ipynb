{
 "cells": [
  {
   "cell_type": "markdown",
   "metadata": {},
   "source": [
    "#  **Introduction au Python**\n",
    "Python est un language de programation interprété, haut niveau. Elle prend en charge plusieurs paradigmes de programmation: procédurale, orientée objet et fonctionnelle. Ce language est largement utilisé dans le domaine de l'intelligence artificielle en raison de sa facilité d utilisation ainsi que ses biblioteques riches  \n",
    "adaptées à cette discipline tel que `numpy` et `pandas`."
   ]
  },
  {
   "cell_type": "markdown",
   "metadata": {},
   "source": [
    "## **0. Imports**"
   ]
  },
  {
   "cell_type": "code",
   "execution_count": 1151,
   "metadata": {},
   "outputs": [],
   "source": [
    "import numpy as np \n",
    "import pandas as pd "
   ]
  },
  {
   "cell_type": "markdown",
   "metadata": {},
   "source": [
    "## **1. Syntaxe Python**"
   ]
  },
  {
   "cell_type": "markdown",
   "metadata": {},
   "source": [
    "Tandis que certains langages de programmation utilisent l'indentation du code uniquement pour améliorer la lisibilité, en Python, elle est essentielle, elle permet d'indiquer un bloc de code."
   ]
  },
  {
   "cell_type": "code",
   "execution_count": 1152,
   "metadata": {},
   "outputs": [
    {
     "name": "stdout",
     "output_type": "stream",
     "text": [
      "Pour afficher un texte en python utiliser le mot clé 'print' \n",
      "Valeur de la variable = 4\n"
     ]
    }
   ],
   "source": [
    "# Les commentaires en python commencent par \"#\" \n",
    "\n",
    "print(\"Pour afficher un texte en python utiliser le mot clé 'print' \")\n",
    "\n",
    "valeur=4\n",
    "print(\"Valeur de la variable =\",valeur) # Pour afficher un texte avec une variable"
   ]
  },
  {
   "cell_type": "markdown",
   "metadata": {},
   "source": [
    "### **1.1 Variables**"
   ]
  },
  {
   "cell_type": "markdown",
   "metadata": {},
   "source": [
    " Contrairement aux langages à typage statique comme C ou Java, qui nécessitent une déclaration explicite des variables, Python se passe de cette exigence"
   ]
  },
  {
   "cell_type": "markdown",
   "metadata": {},
   "source": [
    "#### Types de bases"
   ]
  },
  {
   "cell_type": "code",
   "execution_count": 1153,
   "metadata": {},
   "outputs": [
    {
     "name": "stdout",
     "output_type": "stream",
     "text": [
      "<class 'int'>\n",
      "<class 'str'>\n",
      "<class 'float'>\n",
      "<class 'bool'>\n"
     ]
    }
   ],
   "source": [
    "x = 5 \n",
    "y = \"Hello, World!\" \n",
    "z= 3.8 \n",
    "w= True\n",
    "\n",
    "print(type(x))\n",
    "print(type(y))\n",
    "print(type(z))\n",
    "print(type(w))"
   ]
  },
  {
   "cell_type": "markdown",
   "metadata": {},
   "source": [
    "#### Assignation"
   ]
  },
  {
   "cell_type": "code",
   "execution_count": 1154,
   "metadata": {},
   "outputs": [
    {
     "name": "stdout",
     "output_type": "stream",
     "text": [
      "Hello, World!\n",
      "5\n",
      "<class 'int'>\n"
     ]
    }
   ],
   "source": [
    "print(y)\n",
    "y=x # x=5\n",
    "print(y)\n",
    "print(type(y))"
   ]
  },
  {
   "cell_type": "markdown",
   "metadata": {},
   "source": [
    "#### Operations Arithmetiques"
   ]
  },
  {
   "cell_type": "code",
   "execution_count": 1155,
   "metadata": {},
   "outputs": [
    {
     "name": "stdout",
     "output_type": "stream",
     "text": [
      "16\n",
      "1\n"
     ]
    }
   ],
   "source": [
    "a=2*10-4\n",
    "print(a)\n",
    "\n",
    "b=a%3\n",
    "print(b)"
   ]
  },
  {
   "cell_type": "markdown",
   "metadata": {},
   "source": [
    "#### Operations Logiques"
   ]
  },
  {
   "cell_type": "code",
   "execution_count": 1156,
   "metadata": {},
   "outputs": [
    {
     "name": "stdout",
     "output_type": "stream",
     "text": [
      "True\n",
      "False\n"
     ]
    }
   ],
   "source": [
    "print(a>b)# a=16 b=1\n",
    "print(a==b)"
   ]
  },
  {
   "cell_type": "markdown",
   "metadata": {},
   "source": [
    "### **1.2 Conditions et Boucles**"
   ]
  },
  {
   "cell_type": "markdown",
   "metadata": {},
   "source": [
    "#### Condition: if..else.."
   ]
  },
  {
   "cell_type": "code",
   "execution_count": 1157,
   "metadata": {},
   "outputs": [
    {
     "name": "stdout",
     "output_type": "stream",
     "text": [
      "10\n"
     ]
    }
   ],
   "source": [
    "val1=5\n",
    "val2=70\n",
    "\n",
    "if val2>50:\n",
    "    val1=10\n",
    "else:\n",
    "    val1=0\n",
    "    \n",
    "print(val1)"
   ]
  },
  {
   "cell_type": "markdown",
   "metadata": {},
   "source": [
    "#### Boucle FOR"
   ]
  },
  {
   "cell_type": "markdown",
   "metadata": {},
   "source": [
    " Rappel de la loi du factorielle: **N! = N * (N-1) * (N-2) * (N-3) *...* 1**"
   ]
  },
  {
   "cell_type": "code",
   "execution_count": 1158,
   "metadata": {},
   "outputs": [
    {
     "name": "stdout",
     "output_type": "stream",
     "text": [
      "5 ! = 120\n"
     ]
    }
   ],
   "source": [
    "N=5\n",
    "total=1\n",
    "for i in range(N):\n",
    "    total=total*(N-i)\n",
    "    \n",
    "print(N,\"! =\",total)"
   ]
  },
  {
   "cell_type": "markdown",
   "metadata": {},
   "source": [
    "#### Boucle WHILE"
   ]
  },
  {
   "cell_type": "code",
   "execution_count": 1159,
   "metadata": {},
   "outputs": [
    {
     "name": "stdout",
     "output_type": "stream",
     "text": [
      "5 ! = 120\n"
     ]
    }
   ],
   "source": [
    "N=5\n",
    "total=1\n",
    "i=0\n",
    "while(i<N):\n",
    "    total=total*(N-i)\n",
    "    i+=1\n",
    "\n",
    "print(N,\"! =\",total)"
   ]
  },
  {
   "cell_type": "markdown",
   "metadata": {},
   "source": [
    "### **1.3 Fonctions**"
   ]
  },
  {
   "cell_type": "markdown",
   "metadata": {},
   "source": [
    "Rappel de la loi de la puissance: **X<sup>n</sup> = X * X * X * X * X (n fois)**"
   ]
  },
  {
   "cell_type": "code",
   "execution_count": 1160,
   "metadata": {},
   "outputs": [],
   "source": [
    "def Puissance(X,n):\n",
    "    resultat=1\n",
    "    for _ in range(n):\n",
    "        resultat=resultat*X\n",
    "    return resultat "
   ]
  },
  {
   "cell_type": "code",
   "execution_count": 1161,
   "metadata": {},
   "outputs": [
    {
     "name": "stdout",
     "output_type": "stream",
     "text": [
      "X^n=  25\n",
      "25\n"
     ]
    }
   ],
   "source": [
    "x=5\n",
    "n=2 \n",
    "print(\"X^n= \",Puissance(x,n)) \n",
    "print(x**n)"
   ]
  },
  {
   "cell_type": "markdown",
   "metadata": {},
   "source": [
    "### **1.4 Types avancées**"
   ]
  },
  {
   "cell_type": "markdown",
   "metadata": {},
   "source": [
    "#### Listes"
   ]
  },
  {
   "cell_type": "code",
   "execution_count": 1162,
   "metadata": {},
   "outputs": [
    {
     "name": "stdout",
     "output_type": "stream",
     "text": [
      "[9, 8, 7, 6, 5]\n",
      "Longueur de L1: 5\n"
     ]
    }
   ],
   "source": [
    "L1=[9,8,7,6,5]\n",
    "print(L1)\n",
    "print(\"Longueur de L1:\",len(L1))"
   ]
  },
  {
   "cell_type": "code",
   "execution_count": 1163,
   "metadata": {},
   "outputs": [
    {
     "name": "stdout",
     "output_type": "stream",
     "text": [
      "7\n",
      "5\n",
      "[8, 7]\n",
      "[9, 8]\n",
      "[7, 6, 5]\n"
     ]
    }
   ],
   "source": [
    "print(L1[2])\n",
    "print(L1[-1])\n",
    "print(L1[1:3])\n",
    "print(L1[:2])\n",
    "print(L1[2:])"
   ]
  },
  {
   "cell_type": "code",
   "execution_count": 1164,
   "metadata": {},
   "outputs": [
    {
     "name": "stdout",
     "output_type": "stream",
     "text": [
      "Liste de base: [9, 8, 7, 6, 5]\n",
      "Liste modifiée: [-1, 8, 7, 5, 9]\n",
      "Liste ordonnée: [-1, 5, 7, 8, 9]\n",
      "Nombre de '9' est : 1\n"
     ]
    }
   ],
   "source": [
    "print('Liste de base:', L1)\n",
    "L1.append(9)\n",
    "L1.remove(6)\n",
    "L1[0]=-1\n",
    "print('Liste modifiée:', L1)\n",
    "\n",
    "L1.sort()\n",
    "print('Liste ordonnée:',L1)\n",
    "\n",
    "print('Nombre de \\'9\\' est :',L1.count(9))"
   ]
  },
  {
   "cell_type": "code",
   "execution_count": 1165,
   "metadata": {},
   "outputs": [
    {
     "name": "stdout",
     "output_type": "stream",
     "text": [
      "[<class 'int'>, <class 'float'>, <class 'str'>, <class 'bool'>]\n"
     ]
    }
   ],
   "source": [
    "L2=[\"c\",\"g\",\"e\",\"a\"]\n",
    "L3=[1.5,25.99,29.0,30.4]\n",
    "\n",
    "L4=[3,50.4,\"truc\",True]\n",
    "print([type(item) for item in L4])"
   ]
  },
  {
   "cell_type": "code",
   "execution_count": 1166,
   "metadata": {},
   "outputs": [
    {
     "data": {
      "text/plain": [
       "[0, -11, 2, 3]"
      ]
     },
     "execution_count": 1166,
     "metadata": {},
     "output_type": "execute_result"
    }
   ],
   "source": [
    "L4=list((0,-11,2,3))\n",
    "L4"
   ]
  },
  {
   "cell_type": "code",
   "execution_count": 1167,
   "metadata": {},
   "outputs": [
    {
     "name": "stdout",
     "output_type": "stream",
     "text": [
      "L1 =  [-1, 5, 7, 8, 9] L4 =  [0, -11, 2, 3]\n",
      "L1+L4 =  [-1, 5, 7, 8, 9, 0, -11, 2, 3]\n",
      "L4*2 =  [0, -11, 2, 3, 0, -11, 2, 3]\n"
     ]
    }
   ],
   "source": [
    "print(\"L1 = \",L1,\"L4 = \",L4)\n",
    "print(\"L1+L4 = \",L1+L4)# concatenation de L1 et L4 \n",
    "print(\"L4*2 = \",L4*2)# equivalent de L4+L4 (concatenation)"
   ]
  },
  {
   "cell_type": "markdown",
   "metadata": {},
   "source": [
    "#### Dictionaires"
   ]
  },
  {
   "cell_type": "code",
   "execution_count": 1168,
   "metadata": {},
   "outputs": [
    {
     "data": {
      "text/plain": [
       "{'nom': 'Fatima', 'age': 25, 'ville': 'Caire'}"
      ]
     },
     "execution_count": 1168,
     "metadata": {},
     "output_type": "execute_result"
    }
   ],
   "source": [
    "personne = {\n",
    "    'nom': 'Fatima',\n",
    "    'age': 25,\n",
    "    'ville': 'Caire'\n",
    "}\n",
    "personne"
   ]
  },
  {
   "cell_type": "code",
   "execution_count": 1169,
   "metadata": {},
   "outputs": [
    {
     "data": {
      "text/plain": [
       "dict_keys(['nom', 'age', 'ville'])"
      ]
     },
     "execution_count": 1169,
     "metadata": {},
     "output_type": "execute_result"
    }
   ],
   "source": [
    "personne.keys()"
   ]
  },
  {
   "cell_type": "code",
   "execution_count": 1170,
   "metadata": {},
   "outputs": [
    {
     "data": {
      "text/plain": [
       "dict_values(['Fatima', 25, 'Caire'])"
      ]
     },
     "execution_count": 1170,
     "metadata": {},
     "output_type": "execute_result"
    }
   ],
   "source": [
    "personne.values()"
   ]
  },
  {
   "cell_type": "code",
   "execution_count": 1171,
   "metadata": {},
   "outputs": [
    {
     "name": "stdout",
     "output_type": "stream",
     "text": [
      "{'nom': 'Fatima', 'age': 26, 'ville': 'Caire', 'job': 'Engenieur'}\n"
     ]
    }
   ],
   "source": [
    "personne['age'] = 26  # modification d'une valeur\n",
    "personne['job'] = 'Engenieur'  # ajout d'un item\n",
    "print(personne)"
   ]
  },
  {
   "cell_type": "markdown",
   "metadata": {},
   "source": [
    "## **2. NumPy**"
   ]
  },
  {
   "cell_type": "markdown",
   "metadata": {},
   "source": [
    "`NumPy` (Numerical Python) est une bibliothèque Python open source largement utilisée dans le calcul scientifique et numérique. Elle offre une prise en charge des  \n",
    "tableaux et matrices multidimensionnels de grande taille, ainsi qu'une vaste collection de fonctions mathématiques de haut niveau pour manipuler efficacement ces tableaux."
   ]
  },
  {
   "cell_type": "code",
   "execution_count": 1172,
   "metadata": {},
   "outputs": [
    {
     "name": "stdout",
     "output_type": "stream",
     "text": [
      "A= [1 2 3]\n",
      "\n",
      "B=\n",
      " [[2.  1.5 3. ]\n",
      " [5.  4.  6. ]]\n",
      "\n",
      "C=\n",
      " [[[1. 2. 3.]\n",
      "  [4. 5. 6.]]\n",
      "\n",
      " [[3. 2. 1.]\n",
      "  [4. 5. 6.]]]\n"
     ]
    }
   ],
   "source": [
    "A = np.array([1,2,3]) #tableau a une dimension\n",
    "B = np.array([(2,1.5,3), (5,4,6)]) # tableau a 2 dimension\n",
    "C = np.array([[(1,2,3), (4,5,6)],[(3,2,1), (4,5,6)]], dtype = float) # tableau a 3 dimensions avec type float explicitement donné \n",
    "\n",
    "print(\"A=\",A)\n",
    "print(\"\\nB=\\n\",B)\n",
    "print(\"\\nC=\\n\",C)"
   ]
  },
  {
   "cell_type": "code",
   "execution_count": 1173,
   "metadata": {},
   "outputs": [
    {
     "name": "stdout",
     "output_type": "stream",
     "text": [
      "Dimensions de C: (2, 2, 3)\n",
      "\n",
      "Longueur de C: 2\n",
      "\n",
      "Nombre de dimensions de C: 3\n",
      "\n",
      "Taille de C: 12\n",
      "\n",
      "Type de C: float64\n"
     ]
    },
    {
     "data": {
      "text/plain": [
       "array([[[1, 2, 3],\n",
       "        [4, 5, 6]],\n",
       "\n",
       "       [[3, 2, 1],\n",
       "        [4, 5, 6]]])"
      ]
     },
     "execution_count": 1173,
     "metadata": {},
     "output_type": "execute_result"
    }
   ],
   "source": [
    "print(\"Dimensions de C:\",C.shape)# (x,y,z)\n",
    "print(\"\\nLongueur de C:\",len(C))# Nombre d'element du la premiere dimension\n",
    "print(\"\\nNombre de dimensions de C:\",C.ndim)\n",
    "print(\"\\nTaille de C:\",C.size)# Nombre d'elements\n",
    "print(\"\\nType de C:\",C.dtype)\n",
    "C.astype(int)# convertion de type"
   ]
  },
  {
   "cell_type": "code",
   "execution_count": 1174,
   "metadata": {},
   "outputs": [
    {
     "name": "stdout",
     "output_type": "stream",
     "text": [
      "Matrice de 0:\n",
      " [[0. 0. 0.]]\n",
      "\n",
      "Matrice de 1:\n",
      " [[1 1 1]\n",
      " [1 1 1]]\n",
      "\n",
      "Matrice d'une meme valeur:\n",
      " [[7 7]\n",
      " [7 7]]\n"
     ]
    }
   ],
   "source": [
    "print(\"Matrice de 0:\\n\",np.zeros((1,3)))\n",
    "print(\"\\nMatrice de 1:\\n\",np.ones((2,3),dtype=np.int16))\n",
    "print(\"\\nMatrice d'une meme valeur:\\n\",np.full((2,2),7))"
   ]
  },
  {
   "cell_type": "code",
   "execution_count": 1175,
   "metadata": {},
   "outputs": [
    {
     "name": "stdout",
     "output_type": "stream",
     "text": [
      "Matrice de valeurs espacées uniformément:\n",
      " [10 15 20]\n",
      "\n",
      "Matrice d'identité:\n",
      " [[1. 0.]\n",
      " [0. 1.]]\n",
      "\n",
      "Matrice à valeurs aléatoires:\n",
      " [[0.5913231  0.41289296]\n",
      " [0.29825838 0.03277152]]\n"
     ]
    }
   ],
   "source": [
    "D=np.arange(10,25,5)\n",
    "print(\"Matrice de valeurs espacées uniformément:\\n\",D)\n",
    "print(\"\\nMatrice d'identité:\\n\",np.eye(2))\n",
    "print(\"\\nMatrice à valeurs aléatoires:\\n\",np.random.random((2,2)))"
   ]
  },
  {
   "cell_type": "markdown",
   "metadata": {},
   "source": [
    "#### Operations Arithmetiques et Logiques"
   ]
  },
  {
   "cell_type": "code",
   "execution_count": 1176,
   "metadata": {},
   "outputs": [
    {
     "name": "stdout",
     "output_type": "stream",
     "text": [
      "Rappel B=\n",
      " [[2.  1.5 3. ]\n",
      " [5.  4.  6. ]]\n",
      "\n",
      "Rappel A= [1 2 3]\n",
      "\n",
      "2 x A: [2 4 6]\n",
      "\n",
      "e^A:\n",
      " [ 2.71828183  7.3890561  20.08553692]\n",
      "\n",
      "racine(A):\n",
      " [1.         1.41421356 1.73205081]\n",
      "\n",
      "A+B:\n",
      " [[3.  3.5 6. ]\n",
      " [6.  6.  9. ]]\n",
      "\n",
      "A-B:\n",
      " [[-1.   0.5  0. ]\n",
      " [-4.  -2.  -3. ]]\n"
     ]
    }
   ],
   "source": [
    "print(\"Rappel B=\\n\",B)\n",
    "print(\"\\nRappel A=\",A)\n",
    "print(\"\\n2 x A:\",2*A)\n",
    "print(\"\\ne^A:\\n\",np.exp(A))\n",
    "print(\"\\nracine(A):\\n\",np.sqrt(A))\n",
    "print(\"\\nA+B:\\n\",np.add(A,B))\n",
    "print(\"\\nA-B:\\n\",A-B)"
   ]
  },
  {
   "cell_type": "code",
   "execution_count": 1177,
   "metadata": {},
   "outputs": [
    {
     "name": "stdout",
     "output_type": "stream",
     "text": [
      "A==B:\n",
      " [[False False  True]\n",
      " [False False False]]\n",
      "\n",
      "A>2:\n",
      " [False False  True]\n"
     ]
    }
   ],
   "source": [
    "print(\"A==B:\\n\",A==B)\n",
    "print(\"\\nA>2:\\n\",A>2)"
   ]
  },
  {
   "cell_type": "code",
   "execution_count": 1178,
   "metadata": {},
   "outputs": [
    {
     "data": {
      "text/plain": [
       "(array([1, 2, 3]),\n",
       " array([[2. , 1.5, 3. ],\n",
       "        [5. , 4. , 6. ]]),\n",
       " array([[[1., 2., 3.],\n",
       "         [4., 5., 6.]],\n",
       " \n",
       "        [[3., 2., 1.],\n",
       "         [4., 5., 6.]]]))"
      ]
     },
     "execution_count": 1178,
     "metadata": {},
     "output_type": "execute_result"
    }
   ],
   "source": [
    "A,B,C"
   ]
  },
  {
   "cell_type": "code",
   "execution_count": 1179,
   "metadata": {},
   "outputs": [
    {
     "data": {
      "text/plain": [
       "(np.int64(6), np.int64(3), np.float64(2.0), np.float64(2.0))"
      ]
     },
     "execution_count": 1179,
     "metadata": {},
     "output_type": "execute_result"
    }
   ],
   "source": [
    "A.sum(), A.max(axis=0), A.mean(), np.median(A) #fonctions d'aggregation"
   ]
  },
  {
   "cell_type": "code",
   "execution_count": 1180,
   "metadata": {},
   "outputs": [
    {
     "name": "stdout",
     "output_type": "stream",
     "text": [
      "[[[2. 3.]\n",
      "  [5. 6.]]\n",
      "\n",
      " [[2. 1.]\n",
      "  [5. 6.]]] \n",
      "\n",
      "[5. 4. 6.]\n"
     ]
    }
   ],
   "source": [
    "print(C[0:2,:2,1:],\"\\n\") \n",
    "print(B[B>=4])# element de B qui sont >=4"
   ]
  },
  {
   "cell_type": "code",
   "execution_count": 1181,
   "metadata": {},
   "outputs": [
    {
     "name": "stdout",
     "output_type": "stream",
     "text": [
      "Matrice B:\n",
      " [[2.  1.5 3. ]\n",
      " [5.  4.  6. ]]\n",
      "\n",
      "Matrice B ordonnée:\n",
      " [[1.5 2.  3. ]\n",
      " [4.  5.  6. ]]\n",
      "\n",
      "Matrice B tranposé:\n",
      " [[1.5 4. ]\n",
      " [2.  5. ]\n",
      " [3.  6. ]]\n",
      "\n",
      "Matrice B remodelé:\n",
      " [[1.5 2.  3.  4.  5.  6. ]]\n"
     ]
    }
   ],
   "source": [
    "print(\"Matrice B:\\n\",B)\n",
    "B.sort()\n",
    "print(\"\\nMatrice B ordonnée:\\n\",B)\n",
    "print(\"\\nMatrice B tranposé:\\n\",B.T)\n",
    "print(\"\\nMatrice B remodelé:\\n\",B.reshape(1,6))"
   ]
  },
  {
   "cell_type": "code",
   "execution_count": 1182,
   "metadata": {},
   "outputs": [
    {
     "data": {
      "text/plain": [
       "(array([1, 2, 3]),\n",
       " array([[1.5, 2. , 3. ],\n",
       "        [4. , 5. , 6. ]]),\n",
       " array([10, 15, 20]))"
      ]
     },
     "execution_count": 1182,
     "metadata": {},
     "output_type": "execute_result"
    }
   ],
   "source": [
    "A,B,D"
   ]
  },
  {
   "cell_type": "code",
   "execution_count": 1183,
   "metadata": {},
   "outputs": [
    {
     "data": {
      "text/plain": [
       "(array([1. , 2. , 3. , 1.5, 2. , 3. , 4. , 5. , 6. ]),\n",
       " array([1, 5, 2, 3]),\n",
       " array([2, 3]))"
      ]
     },
     "execution_count": 1183,
     "metadata": {},
     "output_type": "execute_result"
    }
   ],
   "source": [
    "np.append(A,B),np.insert(A, 1, 5),np.delete(A,0) #ajout, insertion de 5 à l'indice 1  et suppression de l'eleement à l'indice 0"
   ]
  },
  {
   "cell_type": "code",
   "execution_count": 1184,
   "metadata": {},
   "outputs": [
    {
     "data": {
      "text/plain": [
       "(array([ 1,  2,  3, 10, 15, 20]),\n",
       " array([[ 1,  2,  3],\n",
       "        [10, 15, 20]]),\n",
       " [array([[1.5, 2. , 3. ]]), array([[4., 5., 6.]])])"
      ]
     },
     "execution_count": 1184,
     "metadata": {},
     "output_type": "execute_result"
    }
   ],
   "source": [
    "np.concatenate((A,D)),np.vstack((A,D)),np.vsplit(B,2) # concatenation,empilement verticale (il existe aussi horizontalement) \n",
    "# et une separation verticale en 2 sous tableaux de meme taille"
   ]
  },
  {
   "cell_type": "markdown",
   "metadata": {},
   "source": [
    "Ces fonctions de modifient pas le tableau original mais agissent sur une copie. Pour modifier le tableau original il faut lui assigner le resultat de l'operation"
   ]
  },
  {
   "cell_type": "code",
   "execution_count": 1185,
   "metadata": {},
   "outputs": [
    {
     "name": "stdout",
     "output_type": "stream",
     "text": [
      "[1 2 3]\n",
      "[ 1  2  3 10 15 20]\n"
     ]
    }
   ],
   "source": [
    "print(A)\n",
    "A=np.concatenate((A,D))\n",
    "print(A)"
   ]
  },
  {
   "cell_type": "markdown",
   "metadata": {},
   "source": [
    "## **3. Pandas**"
   ]
  },
  {
   "cell_type": "markdown",
   "metadata": {},
   "source": [
    "`Pandas` est une bibliothèque open-source de Python utilisée pour la manipulation et l'analyse de données. Elle fournit des structures de données puissantes, comme les ``DataFrame`` et les ``Series``.\n",
    "Les ``Series`` est une structure de données unidimensionnelle avec des indices associés pour acceder aux valeurs, tandis que le ``DataFrame`` est un tableau bidimensionnelle ou Chaque colonne est une ``Series``, avec une étiquette pour chaque colonne, la rendant adapté aux jeux de données tabulaires."
   ]
  },
  {
   "cell_type": "markdown",
   "metadata": {},
   "source": [
    "### **3.1 Pandas Series Object**"
   ]
  },
  {
   "cell_type": "code",
   "execution_count": 1186,
   "metadata": {},
   "outputs": [
    {
     "data": {
      "text/plain": [
       "a    3\n",
       "b   -5\n",
       "c    7\n",
       "d    4\n",
       "dtype: int64"
      ]
     },
     "execution_count": 1186,
     "metadata": {},
     "output_type": "execute_result"
    }
   ],
   "source": [
    "s = pd.Series([3, -5, 7, 4], index=['a', 'b', 'c', 'd'])\n",
    "s"
   ]
  },
  {
   "cell_type": "markdown",
   "metadata": {},
   "source": [
    "#### Accès aux éléments"
   ]
  },
  {
   "cell_type": "code",
   "execution_count": 1187,
   "metadata": {},
   "outputs": [
    {
     "name": "stdout",
     "output_type": "stream",
     "text": [
      "3\n",
      "b   -5\n",
      "dtype: int64\n"
     ]
    }
   ],
   "source": [
    "print(s['a'])\n",
    "print(s[(s < 1)])"
   ]
  },
  {
   "cell_type": "markdown",
   "metadata": {},
   "source": [
    "#### Modification d'éléments"
   ]
  },
  {
   "cell_type": "code",
   "execution_count": 1188,
   "metadata": {},
   "outputs": [
    {
     "name": "stdout",
     "output_type": "stream",
     "text": [
      "3\n",
      "6\n"
     ]
    }
   ],
   "source": [
    "print(s['a'])\n",
    "s['a'] = 6\n",
    "print(s['a'])"
   ]
  },
  {
   "cell_type": "markdown",
   "metadata": {},
   "source": [
    "#### Ajout d' éléments"
   ]
  },
  {
   "cell_type": "code",
   "execution_count": 1189,
   "metadata": {},
   "outputs": [
    {
     "data": {
      "text/plain": [
       "(a    6\n",
       " b   -5\n",
       " c    7\n",
       " d    4\n",
       " dtype: int64,\n",
       " a    7\n",
       " c   -2\n",
       " d    3\n",
       " dtype: int64)"
      ]
     },
     "execution_count": 1189,
     "metadata": {},
     "output_type": "execute_result"
    }
   ],
   "source": [
    "s3 = pd.Series([7, -2, 3], index=[ 'a', 'c','d' ])\n",
    "s,s3"
   ]
  },
  {
   "cell_type": "code",
   "execution_count": 1190,
   "metadata": {},
   "outputs": [
    {
     "name": "stdout",
     "output_type": "stream",
     "text": [
      "a    13.0\n",
      "b     NaN\n",
      "c     5.0\n",
      "d     7.0\n",
      "dtype: float64\n",
      "a    13.0\n",
      "b    -5.0\n",
      "c     5.0\n",
      "d     7.0\n",
      "dtype: float64\n"
     ]
    }
   ],
   "source": [
    "print(s+s3)\n",
    "print(s.add(s3,fill_value=0))# remplit par 0 les valeurs manquantes avant d'ajouter (il manque l element \"b\" à s3 )"
   ]
  },
  {
   "cell_type": "markdown",
   "metadata": {},
   "source": [
    "#### Suppression d' éléments"
   ]
  },
  {
   "cell_type": "code",
   "execution_count": 1191,
   "metadata": {},
   "outputs": [
    {
     "data": {
      "text/plain": [
       "b   -5\n",
       "d    4\n",
       "dtype: int64"
      ]
     },
     "execution_count": 1191,
     "metadata": {},
     "output_type": "execute_result"
    }
   ],
   "source": [
    "s.drop(index=['a' ,'c' ])#supprimer des elements"
   ]
  },
  {
   "cell_type": "markdown",
   "metadata": {},
   "source": [
    "### **3.2 Pandas DataFrame**"
   ]
  },
  {
   "cell_type": "code",
   "execution_count": 1192,
   "metadata": {},
   "outputs": [
    {
     "data": {
      "text/html": [
       "<div>\n",
       "<style scoped>\n",
       "    .dataframe tbody tr th:only-of-type {\n",
       "        vertical-align: middle;\n",
       "    }\n",
       "\n",
       "    .dataframe tbody tr th {\n",
       "        vertical-align: top;\n",
       "    }\n",
       "\n",
       "    .dataframe thead th {\n",
       "        text-align: right;\n",
       "    }\n",
       "</style>\n",
       "<table border=\"1\" class=\"dataframe\">\n",
       "  <thead>\n",
       "    <tr style=\"text-align: right;\">\n",
       "      <th></th>\n",
       "      <th>Country</th>\n",
       "      <th>Capital</th>\n",
       "      <th>population</th>\n",
       "    </tr>\n",
       "  </thead>\n",
       "  <tbody>\n",
       "    <tr>\n",
       "      <th>0</th>\n",
       "      <td>Belgium</td>\n",
       "      <td>Brussels</td>\n",
       "      <td>11190846</td>\n",
       "    </tr>\n",
       "    <tr>\n",
       "      <th>1</th>\n",
       "      <td>India</td>\n",
       "      <td>New Delhi</td>\n",
       "      <td>1303171035</td>\n",
       "    </tr>\n",
       "    <tr>\n",
       "      <th>2</th>\n",
       "      <td>Brazil</td>\n",
       "      <td>Brasília</td>\n",
       "      <td>207847528</td>\n",
       "    </tr>\n",
       "  </tbody>\n",
       "</table>\n",
       "</div>"
      ],
      "text/plain": [
       "   Country    Capital  population\n",
       "0  Belgium   Brussels    11190846\n",
       "1    India  New Delhi  1303171035\n",
       "2   Brazil   Brasília   207847528"
      ]
     },
     "execution_count": 1192,
     "metadata": {},
     "output_type": "execute_result"
    }
   ],
   "source": [
    "data = {\n",
    "    'Country' :['Belgium', 'India', 'Brazil'],\n",
    "    'Capital':['Brussels', 'New Delhi', 'Brasília'],\n",
    "    'population': [11190846, 1303171035, 207847528]\n",
    "}\n",
    "df = pd.DataFrame(data)\n",
    "df"
   ]
  },
  {
   "cell_type": "code",
   "execution_count": 1193,
   "metadata": {},
   "outputs": [
    {
     "name": "stdout",
     "output_type": "stream",
     "text": [
      "(3, 3)\n",
      "RangeIndex(start=0, stop=3, step=1)\n",
      "Index(['Country', 'Capital', 'population'], dtype='object')\n",
      "Country       3\n",
      "Capital       3\n",
      "population    3\n",
      "dtype: int64\n"
     ]
    }
   ],
   "source": [
    "print(df.shape)#(lignes,colonnes)\n",
    "print(df.index) #Description des indices\n",
    "print(df.columns) #Description des colonnes\n",
    "print(df.count()) #Nombre de valeurs non null"
   ]
  },
  {
   "cell_type": "code",
   "execution_count": 1194,
   "metadata": {},
   "outputs": [
    {
     "name": "stdout",
     "output_type": "stream",
     "text": [
      "<class 'pandas.core.frame.DataFrame'>\n",
      "RangeIndex: 3 entries, 0 to 2\n",
      "Data columns (total 3 columns):\n",
      " #   Column      Non-Null Count  Dtype \n",
      "---  ------      --------------  ----- \n",
      " 0   Country     3 non-null      object\n",
      " 1   Capital     3 non-null      object\n",
      " 2   population  3 non-null      int64 \n",
      "dtypes: int64(1), object(2)\n",
      "memory usage: 204.0+ bytes\n"
     ]
    }
   ],
   "source": [
    "df.info() #Info sur DataFrame"
   ]
  },
  {
   "cell_type": "code",
   "execution_count": 1195,
   "metadata": {},
   "outputs": [
    {
     "data": {
      "text/html": [
       "<div>\n",
       "<style scoped>\n",
       "    .dataframe tbody tr th:only-of-type {\n",
       "        vertical-align: middle;\n",
       "    }\n",
       "\n",
       "    .dataframe tbody tr th {\n",
       "        vertical-align: top;\n",
       "    }\n",
       "\n",
       "    .dataframe thead th {\n",
       "        text-align: right;\n",
       "    }\n",
       "</style>\n",
       "<table border=\"1\" class=\"dataframe\">\n",
       "  <thead>\n",
       "    <tr style=\"text-align: right;\">\n",
       "      <th></th>\n",
       "      <th>population</th>\n",
       "    </tr>\n",
       "  </thead>\n",
       "  <tbody>\n",
       "    <tr>\n",
       "      <th>count</th>\n",
       "      <td>3.000000e+00</td>\n",
       "    </tr>\n",
       "    <tr>\n",
       "      <th>mean</th>\n",
       "      <td>5.074031e+08</td>\n",
       "    </tr>\n",
       "    <tr>\n",
       "      <th>std</th>\n",
       "      <td>6.961346e+08</td>\n",
       "    </tr>\n",
       "    <tr>\n",
       "      <th>min</th>\n",
       "      <td>1.119085e+07</td>\n",
       "    </tr>\n",
       "    <tr>\n",
       "      <th>25%</th>\n",
       "      <td>1.095192e+08</td>\n",
       "    </tr>\n",
       "    <tr>\n",
       "      <th>50%</th>\n",
       "      <td>2.078475e+08</td>\n",
       "    </tr>\n",
       "    <tr>\n",
       "      <th>75%</th>\n",
       "      <td>7.555093e+08</td>\n",
       "    </tr>\n",
       "    <tr>\n",
       "      <th>max</th>\n",
       "      <td>1.303171e+09</td>\n",
       "    </tr>\n",
       "  </tbody>\n",
       "</table>\n",
       "</div>"
      ],
      "text/plain": [
       "         population\n",
       "count  3.000000e+00\n",
       "mean   5.074031e+08\n",
       "std    6.961346e+08\n",
       "min    1.119085e+07\n",
       "25%    1.095192e+08\n",
       "50%    2.078475e+08\n",
       "75%    7.555093e+08\n",
       "max    1.303171e+09"
      ]
     },
     "execution_count": 1195,
     "metadata": {},
     "output_type": "execute_result"
    }
   ],
   "source": [
    "df.describe() #résumé des statistiques"
   ]
  },
  {
   "cell_type": "markdown",
   "metadata": {},
   "source": [
    "#### Acès aux éléments"
   ]
  },
  {
   "cell_type": "code",
   "execution_count": 1196,
   "metadata": {},
   "outputs": [
    {
     "name": "stdout",
     "output_type": "stream",
     "text": [
      "   Country\n",
      "0  Belgium\n",
      "\n",
      "    Country\n",
      "0  Belgium\n",
      "\n",
      "   Country    Capital  population\n",
      "1   India  New Delhi  1303171035\n",
      "2  Brazil   Brasília   207847528\n"
     ]
    }
   ],
   "source": [
    "print(df.iloc[[0],[0]])# acces par indice\n",
    "print(\"\\n\",df.loc[[0], ['Country' ]])# acces par etiquette\n",
    "print(\"\\n\",df[1:])"
   ]
  },
  {
   "cell_type": "markdown",
   "metadata": {},
   "source": [
    "#### Modification d'éléments"
   ]
  },
  {
   "cell_type": "code",
   "execution_count": 1197,
   "metadata": {},
   "outputs": [
    {
     "data": {
      "text/html": [
       "<div>\n",
       "<style scoped>\n",
       "    .dataframe tbody tr th:only-of-type {\n",
       "        vertical-align: middle;\n",
       "    }\n",
       "\n",
       "    .dataframe tbody tr th {\n",
       "        vertical-align: top;\n",
       "    }\n",
       "\n",
       "    .dataframe thead th {\n",
       "        text-align: right;\n",
       "    }\n",
       "</style>\n",
       "<table border=\"1\" class=\"dataframe\">\n",
       "  <thead>\n",
       "    <tr style=\"text-align: right;\">\n",
       "      <th></th>\n",
       "      <th>Country</th>\n",
       "      <th>Capital</th>\n",
       "      <th>Population</th>\n",
       "    </tr>\n",
       "  </thead>\n",
       "  <tbody>\n",
       "    <tr>\n",
       "      <th>0</th>\n",
       "      <td>Belgium</td>\n",
       "      <td>Brussels</td>\n",
       "      <td>11190846</td>\n",
       "    </tr>\n",
       "    <tr>\n",
       "      <th>1</th>\n",
       "      <td>India</td>\n",
       "      <td>New Delhi</td>\n",
       "      <td>1303171035</td>\n",
       "    </tr>\n",
       "    <tr>\n",
       "      <th>2</th>\n",
       "      <td>Brazil</td>\n",
       "      <td>Brasília</td>\n",
       "      <td>207847528</td>\n",
       "    </tr>\n",
       "  </tbody>\n",
       "</table>\n",
       "</div>"
      ],
      "text/plain": [
       "   Country    Capital  Population\n",
       "0  Belgium   Brussels    11190846\n",
       "1    India  New Delhi  1303171035\n",
       "2   Brazil   Brasília   207847528"
      ]
     },
     "execution_count": 1197,
     "metadata": {},
     "output_type": "execute_result"
    }
   ],
   "source": [
    "df.rename(columns={\"population\":\"Population\"}, inplace=True)\n",
    "df"
   ]
  },
  {
   "cell_type": "code",
   "execution_count": 1198,
   "metadata": {},
   "outputs": [
    {
     "data": {
      "text/html": [
       "<div>\n",
       "<style scoped>\n",
       "    .dataframe tbody tr th:only-of-type {\n",
       "        vertical-align: middle;\n",
       "    }\n",
       "\n",
       "    .dataframe tbody tr th {\n",
       "        vertical-align: top;\n",
       "    }\n",
       "\n",
       "    .dataframe thead th {\n",
       "        text-align: right;\n",
       "    }\n",
       "</style>\n",
       "<table border=\"1\" class=\"dataframe\">\n",
       "  <thead>\n",
       "    <tr style=\"text-align: right;\">\n",
       "      <th></th>\n",
       "      <th>Country</th>\n",
       "      <th>Capital</th>\n",
       "      <th>Population</th>\n",
       "    </tr>\n",
       "  </thead>\n",
       "  <tbody>\n",
       "    <tr>\n",
       "      <th>0</th>\n",
       "      <td>Belgium</td>\n",
       "      <td>Brussels</td>\n",
       "      <td>46</td>\n",
       "    </tr>\n",
       "    <tr>\n",
       "      <th>1</th>\n",
       "      <td>India</td>\n",
       "      <td>New Delhi</td>\n",
       "      <td>35</td>\n",
       "    </tr>\n",
       "    <tr>\n",
       "      <th>2</th>\n",
       "      <td>Brazil</td>\n",
       "      <td>Brasília</td>\n",
       "      <td>28</td>\n",
       "    </tr>\n",
       "  </tbody>\n",
       "</table>\n",
       "</div>"
      ],
      "text/plain": [
       "   Country    Capital  Population\n",
       "0  Belgium   Brussels          46\n",
       "1    India  New Delhi          35\n",
       "2   Brazil   Brasília          28"
      ]
     },
     "execution_count": 1198,
     "metadata": {},
     "output_type": "execute_result"
    }
   ],
   "source": [
    "df['Population']=df['Population']%100\n",
    "df"
   ]
  },
  {
   "cell_type": "code",
   "execution_count": 1204,
   "metadata": {},
   "outputs": [
    {
     "data": {
      "text/html": [
       "<div>\n",
       "<style scoped>\n",
       "    .dataframe tbody tr th:only-of-type {\n",
       "        vertical-align: middle;\n",
       "    }\n",
       "\n",
       "    .dataframe tbody tr th {\n",
       "        vertical-align: top;\n",
       "    }\n",
       "\n",
       "    .dataframe thead th {\n",
       "        text-align: right;\n",
       "    }\n",
       "</style>\n",
       "<table border=\"1\" class=\"dataframe\">\n",
       "  <thead>\n",
       "    <tr style=\"text-align: right;\">\n",
       "      <th></th>\n",
       "      <th>Country</th>\n",
       "      <th>Capital</th>\n",
       "      <th>Population</th>\n",
       "    </tr>\n",
       "  </thead>\n",
       "  <tbody>\n",
       "    <tr>\n",
       "      <th>2</th>\n",
       "      <td>Brazil</td>\n",
       "      <td>Brasília</td>\n",
       "      <td>28</td>\n",
       "    </tr>\n",
       "    <tr>\n",
       "      <th>0</th>\n",
       "      <td>Belgium</td>\n",
       "      <td>Brussels</td>\n",
       "      <td>46</td>\n",
       "    </tr>\n",
       "    <tr>\n",
       "      <th>1</th>\n",
       "      <td>India</td>\n",
       "      <td>New Delhi</td>\n",
       "      <td>35</td>\n",
       "    </tr>\n",
       "  </tbody>\n",
       "</table>\n",
       "</div>"
      ],
      "text/plain": [
       "   Country    Capital  Population\n",
       "2   Brazil   Brasília          28\n",
       "0  Belgium   Brussels          46\n",
       "1    India  New Delhi          35"
      ]
     },
     "execution_count": 1204,
     "metadata": {},
     "output_type": "execute_result"
    }
   ],
   "source": [
    "df=df.sort_values(by='Capital' )\n",
    "df"
   ]
  },
  {
   "cell_type": "markdown",
   "metadata": {},
   "source": [
    "#### Ajout d'éléments"
   ]
  },
  {
   "cell_type": "code",
   "execution_count": 1149,
   "metadata": {},
   "outputs": [
    {
     "data": {
      "text/html": [
       "<div>\n",
       "<style scoped>\n",
       "    .dataframe tbody tr th:only-of-type {\n",
       "        vertical-align: middle;\n",
       "    }\n",
       "\n",
       "    .dataframe tbody tr th {\n",
       "        vertical-align: top;\n",
       "    }\n",
       "\n",
       "    .dataframe thead th {\n",
       "        text-align: right;\n",
       "    }\n",
       "</style>\n",
       "<table border=\"1\" class=\"dataframe\">\n",
       "  <thead>\n",
       "    <tr style=\"text-align: right;\">\n",
       "      <th></th>\n",
       "      <th>Country</th>\n",
       "      <th>Capital</th>\n",
       "      <th>Population</th>\n",
       "      <th>Richness_score</th>\n",
       "    </tr>\n",
       "  </thead>\n",
       "  <tbody>\n",
       "    <tr>\n",
       "      <th>0</th>\n",
       "      <td>Belgium</td>\n",
       "      <td>Brussels</td>\n",
       "      <td>46</td>\n",
       "      <td>83</td>\n",
       "    </tr>\n",
       "    <tr>\n",
       "      <th>1</th>\n",
       "      <td>India</td>\n",
       "      <td>New Delhi</td>\n",
       "      <td>35</td>\n",
       "      <td>7</td>\n",
       "    </tr>\n",
       "    <tr>\n",
       "      <th>2</th>\n",
       "      <td>Brazil</td>\n",
       "      <td>Brasília</td>\n",
       "      <td>28</td>\n",
       "      <td>28</td>\n",
       "    </tr>\n",
       "  </tbody>\n",
       "</table>\n",
       "</div>"
      ],
      "text/plain": [
       "   Country    Capital  Population  Richness_score\n",
       "0  Belgium   Brussels          46              83\n",
       "1    India  New Delhi          35               7\n",
       "2   Brazil   Brasília          28              28"
      ]
     },
     "execution_count": 1149,
     "metadata": {},
     "output_type": "execute_result"
    }
   ],
   "source": [
    "df2=pd.DataFrame({\"Richness_score\":np.random.randint(0,100, len(df))})\n",
    "df3=pd.concat([df,df2],axis=1)\n",
    "df3"
   ]
  },
  {
   "cell_type": "code",
   "execution_count": 1150,
   "metadata": {},
   "outputs": [
    {
     "data": {
      "text/html": [
       "<div>\n",
       "<style scoped>\n",
       "    .dataframe tbody tr th:only-of-type {\n",
       "        vertical-align: middle;\n",
       "    }\n",
       "\n",
       "    .dataframe tbody tr th {\n",
       "        vertical-align: top;\n",
       "    }\n",
       "\n",
       "    .dataframe thead th {\n",
       "        text-align: right;\n",
       "    }\n",
       "</style>\n",
       "<table border=\"1\" class=\"dataframe\">\n",
       "  <thead>\n",
       "    <tr style=\"text-align: right;\">\n",
       "      <th></th>\n",
       "      <th>Country</th>\n",
       "      <th>Capital</th>\n",
       "      <th>Population</th>\n",
       "      <th>Temperature</th>\n",
       "    </tr>\n",
       "  </thead>\n",
       "  <tbody>\n",
       "    <tr>\n",
       "      <th>0</th>\n",
       "      <td>Belgium</td>\n",
       "      <td>Brussels</td>\n",
       "      <td>46</td>\n",
       "      <td>36</td>\n",
       "    </tr>\n",
       "    <tr>\n",
       "      <th>1</th>\n",
       "      <td>India</td>\n",
       "      <td>New Delhi</td>\n",
       "      <td>35</td>\n",
       "      <td>25</td>\n",
       "    </tr>\n",
       "    <tr>\n",
       "      <th>2</th>\n",
       "      <td>Brazil</td>\n",
       "      <td>Brasília</td>\n",
       "      <td>28</td>\n",
       "      <td>33</td>\n",
       "    </tr>\n",
       "  </tbody>\n",
       "</table>\n",
       "</div>"
      ],
      "text/plain": [
       "   Country    Capital  Population  Temperature\n",
       "0  Belgium   Brussels          46           36\n",
       "1    India  New Delhi          35           25\n",
       "2   Brazil   Brasília          28           33"
      ]
     },
     "execution_count": 1150,
     "metadata": {},
     "output_type": "execute_result"
    }
   ],
   "source": [
    "df['Temperature']= np.random.randint(10, 40, df.shape[0])\n",
    "df"
   ]
  },
  {
   "cell_type": "markdown",
   "metadata": {},
   "source": [
    "#### Suppression d'éléments"
   ]
  },
  {
   "cell_type": "markdown",
   "metadata": {},
   "source": [
    "La fonction `drop` supprime dans un copie du dataframe tandis que `del` supprime au niveau du dataframe originale"
   ]
  },
  {
   "cell_type": "code",
   "execution_count": 651,
   "metadata": {},
   "outputs": [
    {
     "name": "stdout",
     "output_type": "stream",
     "text": [
      "  Country    Capital  Population\n",
      "1   India  New Delhi  1303171035\n",
      "2  Brazil   Brasília   207847528\n"
     ]
    }
   ],
   "source": [
    "df2=df.drop(0 , axis=0)\n",
    "print(df2)"
   ]
  },
  {
   "cell_type": "code",
   "execution_count": 602,
   "metadata": {},
   "outputs": [
    {
     "data": {
      "text/html": [
       "<div>\n",
       "<style scoped>\n",
       "    .dataframe tbody tr th:only-of-type {\n",
       "        vertical-align: middle;\n",
       "    }\n",
       "\n",
       "    .dataframe tbody tr th {\n",
       "        vertical-align: top;\n",
       "    }\n",
       "\n",
       "    .dataframe thead th {\n",
       "        text-align: right;\n",
       "    }\n",
       "</style>\n",
       "<table border=\"1\" class=\"dataframe\">\n",
       "  <thead>\n",
       "    <tr style=\"text-align: right;\">\n",
       "      <th></th>\n",
       "      <th>Country</th>\n",
       "      <th>Population</th>\n",
       "    </tr>\n",
       "  </thead>\n",
       "  <tbody>\n",
       "    <tr>\n",
       "      <th>0</th>\n",
       "      <td>Belgium</td>\n",
       "      <td>11190846</td>\n",
       "    </tr>\n",
       "    <tr>\n",
       "      <th>1</th>\n",
       "      <td>India</td>\n",
       "      <td>1303171035</td>\n",
       "    </tr>\n",
       "    <tr>\n",
       "      <th>2</th>\n",
       "      <td>Brazil</td>\n",
       "      <td>207847528</td>\n",
       "    </tr>\n",
       "  </tbody>\n",
       "</table>\n",
       "</div>"
      ],
      "text/plain": [
       "   Country  Population\n",
       "0  Belgium    11190846\n",
       "1    India  1303171035\n",
       "2   Brazil   207847528"
      ]
     },
     "execution_count": 602,
     "metadata": {},
     "output_type": "execute_result"
    }
   ],
   "source": [
    "del df['Capital']\n",
    "df"
   ]
  },
  {
   "cell_type": "markdown",
   "metadata": {},
   "source": [
    "## Practice \n",
    "Exercise 1\n",
    "- Create a 3x3 NumPy array matrix_A with values from 1 to 9.\n",
    "- Create a 3x2 NumPy array matrix_B with values from 10 to 15.\n",
    "- Slice the first two rows of matrix_A and assign it to a variable sub_A.\n",
    "- Slice the first column of matrix_B and assign it to a variable sub_B.\n",
    "- Perform the matrix multiplication of sub_A and sub_B. Observe the broadcasting effect in this multiplication.\n",
    "- Print the results at each step."
   ]
  },
  {
   "cell_type": "code",
   "execution_count": null,
   "metadata": {},
   "outputs": [
    {
     "name": "stdout",
     "output_type": "stream",
     "text": [
      "Matrix A:\n",
      "[[1 2 3]\n",
      " [4 5 6]\n",
      " [7 8 9]]\n",
      "\n",
      "Matrix B:\n",
      "[[10 11]\n",
      " [12 13]\n",
      " [14 15]]\n",
      "\n",
      "Sliced Rows from Matrix A:\n",
      "[[1 2 3]\n",
      " [4 5 6]]\n",
      "\n",
      "Sliced First Column from Matrix B:\n",
      "[10 12 14]\n",
      "\n",
      "Result of Matrix Multiplication:\n",
      "[[10 24 42]\n",
      " [40 60 84]]\n"
     ]
    }
   ],
   "source": [
    "import numpy as np\n",
    "\n",
    "matrix_A = np.arange(1, 10).reshape(3, 3)\n",
    "matrix_B = np.arange(10, 16).reshape(3, 2)\n",
    "sub_A = matrix_A[:2, :]\n",
    "sub_B = matrix_B[:, 0]\n",
    "result = sub_A * sub_B\n",
    "print(\"Matrix A:\")\n",
    "print(matrix_A)\n",
    "print(\"\\nMatrix B:\")\n",
    "print(matrix_B)\n",
    "print(\"\\nSliced Rows from Matrix A:\")\n",
    "print(sub_A)\n",
    "print(\"\\nSliced First Column from Matrix B:\")\n",
    "print(sub_B)\n",
    "print(\"\\nResult of Matrix Multiplication:\")\n",
    "print(result)\n"
   ]
  },
  {
   "cell_type": "markdown",
   "metadata": {},
   "source": [
    "Exercise 2\n",
    "- Create a synthetic dataset with random student scores for Math, English, and Science. The dataset should have 20 students, with each row representing a student, and each column representing a subject. The scores should be integers between 50 and 100.\n",
    "\n",
    "- Calculate the average score for each subject (Math, English, Science).\n",
    "\n",
    "- Sort the students by their average scores in descending order (from the highest to lowest).\n",
    "\n",
    "- Slice the top 5 students (those with the highest average scores) and store them in a new array.\n",
    "\n",
    "- Calculate the total score for each of the top 5 students.\n",
    "\n",
    "- Compare the total scores of the top 5 students with a passing score of 240 (i.e., are they above or equal to the passing score?).\n",
    "\n",
    "- Print the results at each step, including the dataset, average scores, top 5 students, their total scores, and whether they passed."
   ]
  },
  {
   "cell_type": "code",
   "execution_count": null,
   "metadata": {},
   "outputs": [
    {
     "name": "stdout",
     "output_type": "stream",
     "text": [
      "Student Scores:\n",
      "[[ 52  78  78]\n",
      " [ 88  87  55]\n",
      " [ 95  59  86]\n",
      " [ 63  71  81]\n",
      " [ 67  85  95]\n",
      " [ 58  75  71]\n",
      " [ 95  87  72]\n",
      " [ 66  75  96]\n",
      " [ 87  51  55]\n",
      " [ 56  62  76]\n",
      " [ 60  64  58]\n",
      " [ 57  95  55]\n",
      " [ 97  92  53]\n",
      " [ 60 100  77]\n",
      " [ 75  53  64]\n",
      " [ 68  55  54]\n",
      " [ 67  55  80]\n",
      " [ 74  53  55]\n",
      " [ 90  86  99]\n",
      " [ 74  83  68]]\n"
     ]
    }
   ],
   "source": [
    "\n",
    "scores = np.random.randint(50, 101, size=(20, 3))\n",
    "average_scores = np.mean(scores, axis=0)\n",
    "sorted_indices = np.argsort(average_scores)[::-1]\n",
    "sorted_students = scores[sorted_indices]\n",
    "top_5_students = sorted_students[:5]\n",
    "total_scores = np.sum(top_5_students, axis=1)\n",
    "passing_score = 240\n",
    "passed = total_scores >= passing_score\n",
    "print(\"Student Scores:\")\n",
    "print(scores)\n"
   ]
  },
  {
   "cell_type": "code",
   "execution_count": null,
   "metadata": {},
   "outputs": [
    {
     "name": "stdout",
     "output_type": "stream",
     "text": [
      "\n",
      "Average Scores for Math, English, and Science:\n",
      "[72.45 73.3  71.4 ]\n",
      "\n",
      "Top 5 Students (Sorted by Average Score):\n",
      "[[88 87 55]\n",
      " [52 78 78]\n",
      " [95 59 86]]\n",
      "\n",
      "Total Scores for the Top 5 Students:\n",
      "[230 208 240]\n",
      "\n",
      "Did the Top 5 Students Pass? (Passing Score: 240 or above):\n",
      "[False False  True]\n"
     ]
    }
   ],
   "source": [
    "print(\"\\nAverage Scores for Math, English, and Science:\")\n",
    "print(average_scores)\n",
    "print(\"\\nTop 5 Students (Sorted by Average Score):\")\n",
    "print(top_5_students)\n",
    "print(\"\\nTotal Scores for the Top 5 Students:\")\n",
    "print(total_scores)\n",
    "print(\"\\nDid the Top 5 Students Pass? (Passing Score: 240 or above):\")\n",
    "print(passed)"
   ]
  },
  {
   "cell_type": "markdown",
   "metadata": {},
   "source": [
    "Exercise 3\n",
    "- Create a dataset representing monthly sales data for three products: \"Product A,\" \"Product B,\" and \"Product C.\" The dataset should have 12 rows (months) and 3 columns (products). Use random sales data, such as integer values between 100 and 1000.\n",
    "\n",
    "- Sort the products based on their total sales over the year (sum of sales for all months) in descending order.\n",
    "\n",
    "- Identify the top-selling product.\n",
    "\n",
    "- Calculate the average monthly sales for each product.\n",
    "\n",
    "- Identify the product with the highest average monthly sales.\n",
    "\n",
    "- Compare the total sales of the top-selling product to the average sales of the product with the highest average monthly sales. Determine whether the top-selling product outperformed the product with the highest average.\n",
    "\n",
    "- Print the results, including the dataset, the sorted products, the top-selling product, the average monthly sales, and the comparison result."
   ]
  },
  {
   "cell_type": "code",
   "execution_count": null,
   "metadata": {},
   "outputs": [
    {
     "name": "stdout",
     "output_type": "stream",
     "text": [
      "Monthly Sales Data for Products A, B, and C:\n",
      "[[967 541 262]\n",
      " [150 342 970]\n",
      " [120 783 730]\n",
      " [228 584 465]\n",
      " [205 806 325]\n",
      " [752 883 218]\n",
      " [645 251 138]\n",
      " [869 366 106]\n",
      " [993 362 714]\n",
      " [431 470 441]\n",
      " [482 470 790]\n",
      " [919 358 432]]\n",
      "\n",
      "Sorted Products (by Total Sales):\n",
      "[0 1 2]\n",
      "\n",
      "Top-Selling Product: Product 1\n",
      "\n",
      "Average Monthly Sales for Products A, B, and C:\n",
      "[563.41666667 518.         465.91666667]\n",
      "\n",
      "Product with the Highest Average Monthly Sales: Product 1\n",
      "\n",
      "Did the Top-Selling Product Outperform the Highest Average Monthly Sales Product? (Yes/No): Yes\n"
     ]
    }
   ],
   "source": [
    "\n",
    "sales_data = np.random.randint(100, 1001, size=(12, 3))\n",
    "total_sales = np.sum(sales_data, axis=0)\n",
    "sorted_products = np.argsort(total_sales)[::-1]\n",
    "top_selling_product = sorted_products[0]\n",
    "average_monthly_sales = np.mean(sales_data, axis=0)\n",
    "highest_avg_product = np.argmax(average_monthly_sales)\n",
    "outperformed = total_sales[top_selling_product] > average_monthly_sales[highest_avg_product]\n",
    "print(\"Monthly Sales Data for Products A, B, and C:\")\n",
    "print(sales_data)\n",
    "print(\"\\nSorted Products (by Total Sales):\")\n",
    "print(sorted_products)\n",
    "print(\"\\nTop-Selling Product: Product\", top_selling_product + 1)\n",
    "print(\"\\nAverage Monthly Sales for Products A, B, and C:\")\n",
    "print(average_monthly_sales)\n",
    "print(\"\\nProduct with the Highest Average Monthly Sales: Product\", highest_avg_product + 1)\n",
    "print(\"\\nDid the Top-Selling Product Outperform the Highest Average Monthly Sales Product? (Yes/No):\", \"Yes\" if outperformed else \"No\")"
   ]
  },
  {
   "cell_type": "markdown",
   "metadata": {},
   "source": []
  }
 ],
 "metadata": {
  "kernelspec": {
   "display_name": "ENV",
   "language": "python",
   "name": "python3"
  },
  "language_info": {
   "codemirror_mode": {
    "name": "ipython",
    "version": 3
   },
   "file_extension": ".py",
   "mimetype": "text/x-python",
   "name": "python",
   "nbconvert_exporter": "python",
   "pygments_lexer": "ipython3",
   "version": "3.11.2"
  }
 },
 "nbformat": 4,
 "nbformat_minor": 2
}
